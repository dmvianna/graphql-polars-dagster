{
 "cells": [
  {
   "cell_type": "code",
   "execution_count": null,
   "id": "0b01477f-7f0f-4305-93c5-b9ce61ec809a",
   "metadata": {
    "collapsed": false,
    "jupyter": {
     "outputs_hidden": false
    }
   },
   "outputs": [],
   "source": [
    "from dagster_graphql import DagsterGraphQLClient\n",
    "\n",
    "client = DagsterGraphQLClient(\"localhost\", port_number=3000)"
   ]
  },
  {
   "cell_type": "code",
   "execution_count": null,
   "id": "fead3c56-4998-4ba8-8caa-111e3268eaab",
   "metadata": {},
   "outputs": [],
   "source": [
    "from dagster_graphql import DagsterGraphQLClientError\n",
    "\n",
    "from dagster import DagsterRunStatus\n",
    "\n",
    "def run_status(runid: str) -> None:\n",
    "    try:\n",
    "        status: DagsterRunStatus = client.get_run_status(runid)\n",
    "        print(status)\n",
    "    except DagsterGraphQLClientError as exc:\n",
    "        print(\"oh, noes\")\n",
    "        raise exc"
   ]
  },
  {
   "cell_type": "code",
   "execution_count": null,
   "id": "536003a8-4525-40e7-8522-7e80c5166763",
   "metadata": {},
   "outputs": [],
   "source": [
    "from dagster_graphql import DagsterGraphQLClientError\n",
    "\n",
    "def trigger_run(job_name: str, repo_name: str, repo_loc: str) -> None:\n",
    "    try:\n",
    "        new_run_id: str = client.submit_job_execution(\n",
    "            job_name,\n",
    "            repository_location_name=repo_loc,\n",
    "            repository_name=repo_name,\n",
    "            run_config={},\n",
    "        )\n",
    "        print(f\"running: {new_run_id}\")\n",
    "        return new_run_id\n",
    "    except DagsterGraphQLClientError as exc:\n",
    "        print(\"oh, noes\")\n",
    "        raise exc"
   ]
  },
  {
   "cell_type": "code",
   "execution_count": null,
   "id": "c86d02db-9b83-47fd-93ab-411ff402595c",
   "metadata": {},
   "outputs": [],
   "source": [
    "import time\n",
    "\n",
    "run_id = trigger_run(\"products_job\", \"__repository__\", \"example\")\n",
    "\n",
    "for i in range(4):\n",
    "    display(run_status(run_id))\n",
    "    time.sleep(3)"
   ]
  },
  {
   "cell_type": "code",
   "execution_count": null,
   "id": "656b8248-7fdf-4c54-af1f-0be058db713b",
   "metadata": {},
   "outputs": [],
   "source": []
  }
 ],
 "metadata": {
  "kernelspec": {
   "display_name": "Python 3 (ipykernel)",
   "language": "python",
   "name": "python3"
  },
  "language_info": {
   "codemirror_mode": {
    "name": "ipython",
    "version": 3
   },
   "file_extension": ".py",
   "mimetype": "text/x-python",
   "name": "python",
   "nbconvert_exporter": "python",
   "pygments_lexer": "ipython3",
   "version": "3.11.12"
  },
  "name": "Untitled1.ipynb"
 },
 "nbformat": 4,
 "nbformat_minor": 5
}
